{
 "cells": [
  {
   "cell_type": "markdown",
   "metadata": {
    "colab_type": "text",
    "id": "NQuOyznPahpH"
   },
   "source": [
    "# All Answer In The Bottom Of The File\n",
    "# Guessing Game Challenge\n",
    "\n",
    "Let's use `while` loops to create a guessing game.\n",
    "\n",
    "The Challenge:\n",
    "\n",
    "Write a program that picks a random integer from 1 to 100, and has players guess the number. The rules are:\n",
    "\n",
    "1. If a player's guess is less than 1 or greater than 100, say \"OUT OF BOUNDS\"\n",
    "\n",
    "2. On all turns, if a guess is \n",
    " * closer to the number than the previous guess return \"Closer!\"\n",
    " * farther from the number than the previous guess, return \"Farther!\"\n",
    "3. When the player's guess equals the number, tell them they've guessed correctly *and* how many guesses it took!\n",
    "\n",
    "Now Lets o fro the Steps!"
   ]
  },
  {
   "cell_type": "markdown",
   "metadata": {
    "colab_type": "text",
    "id": "6K7SSiaEahpK"
   },
   "source": [
    "#### First, Build a Line of Code that can Return arandom integer from 1 to 100 and store this number in object called Actual"
   ]
  },
  {
   "cell_type": "code",
   "execution_count": 6,
   "metadata": {
    "colab": {},
    "colab_type": "code",
    "id": "8R7ayXGwahpL"
   },
   "outputs": [],
   "source": [
    "#Type Your Code Here  - Replace None with Correct  Function  \n"
   ]
  },
  {
   "cell_type": "markdown",
   "metadata": {
    "colab_type": "text",
    "id": "la65uFUjahpO"
   },
   "source": [
    "#### Next, build a Code to display an introduction to the Game to tell the user the Boundaries from 1 to 100 and what is his target."
   ]
  },
  {
   "cell_type": "code",
   "execution_count": 4,
   "metadata": {
    "colab": {},
    "colab_type": "code",
    "id": "cpMGPRNT7F-J"
   },
   "outputs": [],
   "source": [
    "#Type Your Code here \n"
   ]
  },
  {
   "cell_type": "markdown",
   "metadata": {
    "colab_type": "text",
    "id": "GyW_z6Sf74yG"
   },
   "source": [
    "### Next, Build a Code that takes an integer input from the user "
   ]
  },
  {
   "cell_type": "code",
   "execution_count": 5,
   "metadata": {
    "colab": {},
    "colab_type": "code",
    "id": "UZCNvK4o82k-"
   },
   "outputs": [],
   "source": [
    "#Type Your Code Here - Replace None With Correct Function \n"
   ]
  },
  {
   "cell_type": "markdown",
   "metadata": {
    "colab_type": "text",
    "id": "BHsh0slo834l"
   },
   "source": [
    "### Next, Put the Upper Cell in A Loop that keeps checking if the Number is Out of Bounds or Not  "
   ]
  },
  {
   "cell_type": "code",
   "execution_count": 3,
   "metadata": {
    "colab": {},
    "colab_type": "code",
    "id": "Xx00D-J89xsk"
   },
   "outputs": [],
   "source": [
    "#Replace None Values with correct conditions or Booleans"
   ]
  },
  {
   "cell_type": "markdown",
   "metadata": {
    "colab_type": "text",
    "id": "d-USlvx8dNak"
   },
   "source": [
    "### Next, Build a Code that Check if the Guess is equal to the Actual Random Number3"
   ]
  },
  {
   "cell_type": "code",
   "execution_count": 2,
   "metadata": {
    "colab": {},
    "colab_type": "code",
    "id": "E95mJnFNdfiW"
   },
   "outputs": [],
   "source": [
    "  # Put function that calculate the Real Number of Guesses \n",
    "        "
   ]
  },
  {
   "cell_type": "markdown",
   "metadata": {
    "colab_type": "text",
    "id": "VWNf49z6WVek"
   },
   "source": [
    "### Next, Build a Code that Check on Each Guess whether its closer than the Previous Guess or not."
   ]
  },
  {
   "cell_type": "code",
   "execution_count": null,
   "metadata": {
    "colab": {},
    "colab_type": "code",
    "id": "O7McDw6pbVfX"
   },
   "outputs": [],
   "source": []
  },
  {
   "cell_type": "markdown",
   "metadata": {
    "colab_type": "text",
    "id": "v-wMuTZLahpY"
   },
   "source": [
    "#### Write a `while` loop that compares the player's guess to our number. If the player guesses correctly, break from the loop. Otherwise, tell the player if they're Closer or Farer , and continue asking for guesses.\n",
    "\n",
    "**Try to Collect All the cells you 've made above and use it here**\n",
    "\n",
    "Hint:\n",
    "\n",
    "\n",
    "* you can use the `abs()` function to find the positive difference between two numbers\n",
    "\n",
    "\n",
    "# Decomposition \n",
    "\n",
    "*   Choosing Random Number\n",
    "*   Game Intro for the User\n",
    "*   Checking on the Inserted Guess if its in boundary or not\n",
    "*   Checking on the Inserted Guess if its equal to the Random Number or Not\n",
    "*   Checking on the Inserted Guess if its Far or Close from the Previous Guess.\n",
    "\n",
    "\n",
    "\n"
   ]
  },
  {
   "cell_type": "code",
   "execution_count": 5,
   "metadata": {
    "colab": {},
    "colab_type": "code",
    "id": "FaifUKKUahpZ"
   },
   "outputs": [
    {
     "name": "stdout",
     "output_type": "stream",
     "text": [
      "This Is Intro:\n",
      "  Guessing Game, You Pick a Number,\n",
      "    We Check If It Is Correct,\n",
      "      Numbers Between 1:100.\n",
      "11\n"
     ]
    }
   ],
   "source": [
    "# Type your Final Code here\n",
    "from random import randint\n",
    "# Print Introduction For Game\n",
    "print('This Is Intro:\\n  Guessing Game, You Pick a Number,\\n    We Check If It Is Correct,\\n      Numbers Between 1:100.')\n",
    "# Guess Random Number\n",
    "rand_num = randint(1, 100)\n",
    "print(rand_num)\n",
    "# Creating List For Guesses and Put One Value So Length Will Be One \n",
    "lifes_list = [0]\n",
    "\n",
    "        "
   ]
  },
  {
   "cell_type": "code",
   "execution_count": 6,
   "metadata": {
    "colab": {},
    "colab_type": "code",
    "id": "3WmFudWAl7gi"
   },
   "outputs": [
    {
     "name": "stdout",
     "output_type": "stream",
     "text": [
      "Choose Your Random Number: 45678\n",
      "Choose Number Between 1:100.\n",
      "Choose Your Random Number: 12\n",
      "Getting Closer.\n",
      "Choose Your Random Number: 78\n",
      "Getting Further.\n",
      "Choose Your Random Number: 56\n",
      "Getting Closer.\n",
      "Choose Your Random Number: 12\n",
      "Getting Closer.\n",
      "Choose Your Random Number: 11\n",
      "Great Done. in Total 6 Guesses.\n"
     ]
    }
   ],
   "source": [
    "# Type here the Big Loop\n",
    "while True:\n",
    "    # Taking Random Number From User.\n",
    "    gues_num = int(input('Choose Your Random Number: '))\n",
    "    # Check If Number Between (1 and 100)\n",
    "    # If (No : Going To Else And Tell User To Guess Between 1:100)\n",
    "    # If (Yes) Adding Guess To Guesses List.\n",
    "    if 1 <= gues_num < 100:\n",
    "        # Adding Guess To Guesses List.\n",
    "        lifes_list.append(gues_num)\n",
    "        # Check If Guessd Number Equal Random Number Or Not.\n",
    "        # If (Yes.) Go TO Else And Tell User You Got Right Guess Also Tell Him How Many Guesses He Did (Guesses List Length)\n",
    "        # If (No.) Enter If\n",
    "        if gues_num != rand_num:\n",
    "            # Check If Random Number - Previous Guess Bigber Than Random Number - Last Guess.\n",
    "            if abs((rand_num - lifes_list[-2])) > abs((rand_num - lifes_list[-1])):\n",
    "                # User Getting Closer\n",
    "                print('Getting Closer.')\n",
    "            # Check If Random Number - Previous Guess Smaller Than Random Number - Last Guess.\n",
    "            elif abs((rand_num - lifes_list[-2])) < abs((rand_num - lifes_list[-1])):\n",
    "                # User Getting Further\n",
    "                print('Getting Further.')\n",
    "            else:\n",
    "                # If User Put Same Number More Than One\n",
    "                print('Try Again.')\n",
    "        else:\n",
    "            # If User Guess Correct\n",
    "            print(f'Great Done. in Total {str(len(lifes_list))} Guesses.')\n",
    "            break\n",
    "    else:\n",
    "        print('Choose Number Between 1:100.')"
   ]
  },
  {
   "cell_type": "markdown",
   "metadata": {
    "colab_type": "text",
    "id": "5UZ7l5wEahpb"
   },
   "source": [
    "That's it! You've just programmed your first game!\n",
    "\n",
    "In the next section we'll learn how to turn some of these repetitive actions into *functions* that can be called whenever we need them."
   ]
  },
  {
   "cell_type": "markdown",
   "metadata": {
    "colab_type": "text",
    "id": "HlHfgyZ9ahpc"
   },
   "source": [
    "### Good Job!"
   ]
  }
 ],
 "metadata": {
  "colab": {
   "name": "Python Challenge Guessing Game.ipynb",
   "provenance": []
  },
  "kernelspec": {
   "display_name": "Python 3",
   "language": "python",
   "name": "python3"
  },
  "language_info": {
   "codemirror_mode": {
    "name": "ipython",
    "version": 3
   },
   "file_extension": ".py",
   "mimetype": "text/x-python",
   "name": "python",
   "nbconvert_exporter": "python",
   "pygments_lexer": "ipython3",
   "version": "3.6.9"
  }
 },
 "nbformat": 4,
 "nbformat_minor": 1
}
